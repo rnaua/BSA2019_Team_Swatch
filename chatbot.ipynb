{
  "nbformat": 4,
  "nbformat_minor": 0,
  "metadata": {
    "kernelspec": {
      "display_name": "Python 3",
      "language": "python",
      "name": "python3"
    },
    "language_info": {
      "codemirror_mode": {
        "name": "ipython",
        "version": 3
      },
      "file_extension": ".py",
      "mimetype": "text/x-python",
      "name": "python",
      "nbconvert_exporter": "python",
      "pygments_lexer": "ipython3",
      "version": "3.7.3"
    },
    "colab": {
      "name": "chatbot.ipynb",
      "provenance": [],
      "include_colab_link": true
    }
  },
  "cells": [
    {
      "cell_type": "markdown",
      "metadata": {
        "id": "view-in-github",
        "colab_type": "text"
      },
      "source": [
        "<a href=\"https://colab.research.google.com/github/rnaua/BSA2020_Team_Swatch/blob/master/chatbot.ipynb\" target=\"_parent\"><img src=\"https://colab.research.google.com/assets/colab-badge.svg\" alt=\"Open In Colab\"/></a>"
      ]
    },
    {
      "cell_type": "markdown",
      "metadata": {
        "id": "wWUbutdGeqT3",
        "colab_type": "text"
      },
      "source": [
        "# Introduction\n",
        "### What is our goal ?\n",
        "\n",
        "> Our goal is to create a chatbot using Google DialogFlow.\n",
        "\n",
        "\n",
        " \n",
        "### What is a chatbot?\n",
        "A chatbot is a software able to conduct a conversation via an interface (either textual or oral). They are designed to simulate human behavior in the context of a conversation. They are mostly used for customer services or information sharing. They can work either with sophisticated language systems or via keywords and patterns from a database.\n",
        "\n",
        "### What is Dialogflow?\n",
        "DialogFlow is a Google cloud service used to build conversational interfaces such as chatbots for websites, mobile applications, IoT devices, and messaging platforms. Dialogflow is powered by Google machine learning and is able to recognize natural language and the user’s intent. So, those interfaces enabling natural and rich interactions with users can be deployed in all suitable devices or platforms. \n",
        "\n",
        "By using Dialogflow, we can access pre-built agents or entities, build serverless applications linked to a chatbot, customize entities and webhooks, and have a look at built-in analytics and sentiment analysis. \n",
        "\n",
        "(You can train it to identify custom entities by giving it datasets as examples.)\n",
        "\n",
        "\n",
        "# The Chatbot\n",
        "### How does it work ?\n",
        "![alt text](/fullfilment.png.jpg)\n",
        "1. \n",
        "2. \n",
        "3. \n",
        "4. \n",
        "5. \n",
        "6. \n",
        "7. \n",
        "\n",
        "\n",
        "### What are the fundamental concepts?\n",
        "The ideal interface should be able to interpret and process the natural language of end-users to infer what they want.\n",
        "\n",
        "**AGENT :**\n",
        "\n",
        "In Dialogflow, a virtual agent is a natural language understanding module handling conversations with end-users. In order to transform end-user text to structured data, an agent needs to be designed and trained according to the service that wants to be delivered. -> An agent is an entire chatbot application. \n",
        "\n",
        "**INTENT :**\n",
        "\n",
        "To handle a conversation, an agent needs to have many intents categorizing a specific end user’s intention. In order to perform intent classification, end-user expressions have to be matched to the best suitable intent offered by an agent. \n",
        "\n",
        "*For example, the cocktail agent we have created recognizes and responds to end-user questions about cocktail recipes. If an end-user ask for the recipe of a Mojito cocktail, Dialogflow will do the matching between the end-user expression and the corresponding intent. Intents can extract critical data from the end-user expression like ingredients for the desired cocktail recipe.*\n",
        "\n",
        "An intent has :\n",
        "\n",
        "- **Training Phrases** : These are sentences that the user might use in order to get some information. End-user expression that is similar to these training phrases let Dialogflow match the end-user expression to the most likely intent depending on the training phrases given and the ones added by Dialogflow built-in machine learning. \n",
        "- **Actions** : An action can be defined for each intent to trigger specific actions or events in the system.\n",
        "- **Parameters** : From the end-user expression, some critical values considered as structured data are extracted based on the defined entity type as parameters to generate responses. \n",
        "- **Responses** : These are responses to the training phrases and the end-user expression that are matched with this particular intent. Responses could be text, speech, photos or videos\n",
        "\n",
        "**ENTITY :**\n",
        "\n",
        "Entity types used to define parameters define how some critical pieces of information from the end-user expression is going to be extracted. Typically, predefined system entities can match dates, times, etc. \n",
        "\n",
        "*For example, we defined a “name” entity that can match the cocktail’s name with our cocktail agent.*\n",
        "\n",
        "Here is a non-exhaustive list of built-in **system entities** are:  \n",
        "\n",
        "- Date and time @sys.time @sys.date\n",
        "- Numbers @sys.numbers @sys.flight-number\n",
        "- Amounts with units @sys.unit-currency @sys.unit-length\n",
        "- Geography @sys.address\n",
        "- Contacts @sys.email @sys.phone-number\n",
        "- Names @sys.given-name @sys.last-name\n",
        "\n",
        "Developer entities can be customized in order to provide the system through a CSV file or API with a list of words or values that can be used for backend code. Synonyms of values can be provided manually or automatically by enabling the automated expansion that lets the agent capture words beyond those defined in the entities’ lists. \n",
        "\n",
        "User entities can be helpful to define a specific user session like previous orders. \n",
        "\n",
        "**CONTEXT:**\n",
        "\n",
        "In order for Dialogflow to understand what an end-user is referring to and match the exact intent, contexts should be defined. Setting input and output contexts for an intent guides the flow of the conversation. Output contexts for an intent become active once this intent is matched with the end-user expression. Those active contexts can then be used in input contexts of other intents to increase the probability of matching. Contexts expire automatically after 20 minutes or a predefined number of conversational turns. They can be used to store data like values of parameters of an entity type. \n",
        "\n",
        "**FOLLOW-UP INTENT:**\n",
        "\n",
        "These are used to associate a child’s intent to its parent intent and automatically set input (to child intent) /output (to parent intent) contexts. Typically, predefined follow-up intents are “yes/no” answers.  Matching a child’s intent is possible if the parent’s intent was matched with the previous end-user expression. \n",
        "\n",
        "**FALLBACK INTENT:**\n",
        "\n",
        "These are triggered if an end-user expression doesn’t match any available intent. A common practice is to use these fallback intents to guide the user’s in the right conversational direction. \n",
        "\n",
        "**DIALOGFLOW CONSOLE:**\n",
        "\n",
        "This is a web user interface used to design, develop, test, manage agents. \n",
        "\n",
        "**FULLFILLMENT FOR INTEGRATIONS:**\n",
        "\n",
        "By using fulfillment, dynamic responses can be provided to the end-user once the intent is matched instead of a defined static response. By enabling fulfillment for an intent, an external defined service can be the response to that intent. When this intent is matched, a request to the defined webhook service with specific information related to the matched intent is sent to perform any actions. \n"
      ]
    }
  ]
}